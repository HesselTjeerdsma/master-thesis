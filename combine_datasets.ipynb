{
 "cells": [
  {
   "cell_type": "markdown",
   "metadata": {},
   "source": [
    "# Combining Datasets\n",
    "\n",
    "This notebook combines the files from the datasets folder in a meaningful way."
   ]
  },
  {
   "cell_type": "code",
   "execution_count": null,
   "metadata": {},
   "outputs": [],
   "source": [
    "import pandas as pd\n",
    "import os\n",
    "\n",
    "# Get list of all CSV files in the datasets folder\n",
    "dataset_folder = 'datasets'\n",
    "csv_files = [f for f in os.listdir(dataset_folder) if f.endswith('.csv')]\n",
    "\n",
    "# Read and store each dataset\n",
    "datasets = {}\n",
    "for file in csv_files:\n",
    "    name = os.path.splitext(file)[0]\n",
    "    datasets[name] = pd.read_csv(os.path.join(dataset_folder, file))\n",
    "    print(f\"Loaded {name} dataset with shape {datasets[name].shape}\")\n",
    "\n",
    "# Now you can work with these datasets as needed\n",
    "# For example, you might want to merge them based on common columns, or perform other operations"
   ]
  },
  {
   "cell_type": "code",
   "execution_count": null,
   "metadata": {},
   "outputs": [],
   "source": [
    "# Example: Merge datasets if they have common columns\n",
    "# This is just a placeholder - you'll need to adjust based on your actual data\n",
    "merged_data = None\n",
    "for name, df in datasets.items():\n",
    "    if merged_data is None:\n",
    "        merged_data = df\n",
    "    else:\n",
    "        # Assuming 'id' is a common column. Adjust as needed.\n",
    "        merged_data = pd.merge(merged_data, df, on='id', how='outer')\n",
    "\n",
    "print(f\"Shape of merged dataset: {merged_data.shape if merged_data is not None else 'No merge performed'}\")"
   ]
  },
  {
   "cell_type": "code",
   "execution_count": null,
   "metadata": {},
   "outputs": [],
   "source": [
    "# Display the first few rows of the merged dataset\n",
    "if merged_data is not None:\n",
    "    merged_data.head()"
   ]
  }
 ],
 "metadata": {
  "kernelspec": {
   "display_name": "Python 3",
   "language": "python",
   "name": "python3"
  },
  "language_info": {
   "codemirror_mode": {
    "name": "ipython",
    "version": 3
   },
   "file_extension": ".py",
   "mimetype": "text/x-python",
   "name": "python",
   "nbconvert_exporter": "python",
   "pygments_lexer": "ipython3",
   "version": "3.8.5"
  }
 },
 "nbformat": 4,
 "nbformat_minor": 4
}
