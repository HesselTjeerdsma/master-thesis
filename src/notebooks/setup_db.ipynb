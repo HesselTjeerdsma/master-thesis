{
 "cells": [
  {
   "cell_type": "code",
   "execution_count": 11,
   "metadata": {},
   "outputs": [],
   "source": [
    "import sys\n",
    "sys.path.append(\"../\")\n",
    "\n",
    "from models.message import Message\n",
    "from models.run import Run\n",
    "from models.duck_basemodel import DuckDBModel"
   ]
  },
  {
   "cell_type": "code",
   "execution_count": 12,
   "metadata": {},
   "outputs": [],
   "source": [
    "DuckDBModel.initialize_db('/home/hessel/code/master-thesis/databases/fraud-prod.db')  # Use ':memory:' for in-memory database"
   ]
  },
  {
   "cell_type": "code",
   "execution_count": 13,
   "metadata": {},
   "outputs": [
    {
     "name": "stdout",
     "output_type": "stream",
     "text": [
      "Started run 2 at 2024-10-24 14:40:53.813680\n",
      "Ended run 2 at 2024-10-24 14:40:53.815473\n"
     ]
    }
   ],
   "source": [
    "# Start a new run\n",
    "run = Run.start(\n",
    "    model_name=\"gpt-4\",\n",
    "    environment=\"production\",\n",
    "    metadata={\"batch_size\": 32, \"learning_rate\": 0.001}\n",
    ")\n",
    "print(f\"Started run {run.id} at {run.start_time}\")"
   ]
  },
  {
   "cell_type": "code",
   "execution_count": 24,
   "metadata": {},
   "outputs": [
    {
     "name": "stdout",
     "output_type": "stream",
     "text": [
      "Created message 4 for run 5\n",
      "Power usage - CPU: 241.31W, GPU: 1189.94W\n"
     ]
    }
   ],
   "source": [
    "import numpy as np\n",
    "# Create a new message with power usage data\n",
    "power_data = {\n",
    "    'cpu': np.array([241.306999]),  # numpy array\n",
    "    'dram': 0.0,\n",
    "    'gpu': 1189.9352091659741,\n",
    "    'disk': 0.00031072875\n",
    "}\n",
    "\n",
    "message = Message.create_llm_message(\n",
    "    run_id=run.id,\n",
    "    prompt=\"What is the capital of France?\",\n",
    "    response=\"The capital of France is Paris.\",\n",
    "    power_usage=power_data\n",
    ")\n",
    "\n",
    "print(f\"Created message {message.id} for run {message.run_id}\")\n",
    "print(f\"Power usage - CPU: {message.cpu_usage:.2f}W, GPU: {message.gpu_usage:.2f}W\")"
   ]
  },
  {
   "cell_type": "code",
   "execution_count": null,
   "metadata": {},
   "outputs": [],
   "source": [
    "run.end(\"completed\")  # or \"failed\" if something went wrong\n",
    "print(f\"Ended run {run.id} at {run.end_time}\")"
   ]
  },
  {
   "cell_type": "code",
   "execution_count": 17,
   "metadata": {},
   "outputs": [
    {
     "data": {
      "text/plain": [
       "Run(id=5, start_time=datetime.datetime(2024, 10, 24, 14, 35, 20, 96566), end_time=datetime.datetime(2024, 10, 24, 14, 35, 20, 98150), model_name='gpt-4', environment='production', status='completed', metadata={'batch_size': 32, 'learning_rate': 0.001})"
      ]
     },
     "execution_count": 17,
     "metadata": {},
     "output_type": "execute_result"
    }
   ],
   "source": [
    "run"
   ]
  },
  {
   "cell_type": "code",
   "execution_count": 10,
   "metadata": {},
   "outputs": [
    {
     "name": "stdout",
     "output_type": "stream",
     "text": [
      "[]\n"
     ]
    }
   ],
   "source": [
    "from pprint import pprint\n",
    "pprint(Message.list_all())\n",
    "#pprint(Run.list_all())"
   ]
  },
  {
   "cell_type": "code",
   "execution_count": 3,
   "metadata": {},
   "outputs": [
    {
     "data": {
      "text/plain": [
       "True"
      ]
     },
     "execution_count": 3,
     "metadata": {},
     "output_type": "execute_result"
    }
   ],
   "source": [
    "from redis import Redis\n",
    "redis = Redis(host=\"localhost\", port=6379)\n",
    "redis.ping()\n",
    "\n"
   ]
  }
 ],
 "metadata": {
  "kernelspec": {
   "display_name": "Python 3",
   "language": "python",
   "name": "python3"
  },
  "language_info": {
   "codemirror_mode": {
    "name": "ipython",
    "version": 3
   },
   "file_extension": ".py",
   "mimetype": "text/x-python",
   "name": "python",
   "nbconvert_exporter": "python",
   "pygments_lexer": "ipython3",
   "version": "3.10.12"
  }
 },
 "nbformat": 4,
 "nbformat_minor": 2
}
