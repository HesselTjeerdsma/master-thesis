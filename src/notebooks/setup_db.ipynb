{
 "cells": [
  {
   "cell_type": "code",
   "execution_count": 1,
   "metadata": {},
   "outputs": [],
   "source": [
    "import sys\n",
    "sys.path.append(\"../\")\n",
    "\n",
    "from models.message import Message"
   ]
  },
  {
   "cell_type": "code",
   "execution_count": 6,
   "metadata": {},
   "outputs": [
    {
     "name": "stdout",
     "output_type": "stream",
     "text": [
      "[Message(run_id='10', message_id='3223', cpu_usage=203.15627899999998, gpu_usage=929.0144506231059, disk_usage=1.067625e-05), Message(run_id='10', message_id='3223', cpu_usage=133.339991, gpu_usage=699.8204782949502, disk_usage=6.322500000000001e-06)]\n"
     ]
    }
   ],
   "source": [
    "try:\n",
    "    # Initialize the database connection\n",
    "    Message.initialize_db(\"../../databases/fraud.db\")\n",
    "\n",
    "    # Retrieve all messages\n",
    "    all_messages = Message.get_by_field(field=\"run_id\", value=\"10\")    \n",
    "    print((all_messages))\n",
    "\n",
    "\n",
    "except Exception as e:\n",
    "    print(f\"An error occurred: {e}\")\n",
    "\n",
    "finally:\n",
    "    # Always close the database connection\n",
    "    Message.close_db()"
   ]
  }
 ],
 "metadata": {
  "kernelspec": {
   "display_name": "Python 3",
   "language": "python",
   "name": "python3"
  },
  "language_info": {
   "codemirror_mode": {
    "name": "ipython",
    "version": 3
   },
   "file_extension": ".py",
   "mimetype": "text/x-python",
   "name": "python",
   "nbconvert_exporter": "python",
   "pygments_lexer": "ipython3",
   "version": "3.10.12"
  }
 },
 "nbformat": 4,
 "nbformat_minor": 2
}
