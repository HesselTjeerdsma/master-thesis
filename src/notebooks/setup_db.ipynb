{
 "cells": [
  {
   "cell_type": "code",
   "execution_count": 18,
   "metadata": {},
   "outputs": [],
   "source": [
    "import sys\n",
    "sys.path.append(\"../\")\n",
    "\n",
    "from models.message import Message\n",
    "from models.run import Run\n",
    "from models.duck_basemodel import DuckDBModel"
   ]
  },
  {
   "cell_type": "code",
   "execution_count": 22,
   "metadata": {},
   "outputs": [],
   "source": [
    "DuckDBModel.initialize_db('/home/hessel/code/master-thesis/databases/fraud.db')  # Use ':memory:' for in-memory database"
   ]
  },
  {
   "cell_type": "code",
   "execution_count": 32,
   "metadata": {},
   "outputs": [
    {
     "name": "stdout",
     "output_type": "stream",
     "text": [
      "Started run 10 at 2024-10-23 14:51:19.536688\n",
      "Ended run 10 at 2024-10-23 14:51:19.538144\n"
     ]
    }
   ],
   "source": [
    "# Start a new run\n",
    "run = Run.start(\n",
    "    model_name=\"gpt-4\",\n",
    "    environment=\"production\",\n",
    "    metadata={\"batch_size\": 32, \"learning_rate\": 0.001}\n",
    ")\n",
    "print(f\"Started run {run.id} at {run.start_time}\")\n",
    "\n",
    "# Do some work...\n",
    "\n",
    "# End the run\n",
    "try:\n",
    "    run.end(\"completed\")  # or \"failed\" if something went wrong\n",
    "    print(f\"Ended run {run.id} at {run.end_time}\")\n",
    "except ValueError as e:\n",
    "    print(f\"Error ending run: {e}\")"
   ]
  },
  {
   "cell_type": "code",
   "execution_count": 57,
   "metadata": {},
   "outputs": [
    {
     "name": "stdout",
     "output_type": "stream",
     "text": [
      "Created message 25 for run 10\n",
      "Power usage - CPU: 241.31W, GPU: 1189.94W\n"
     ]
    }
   ],
   "source": [
    "import numpy as np\n",
    "# Create a new message with power usage data\n",
    "power_data = {\n",
    "    'cpu': np.array([241.306999]),  # numpy array\n",
    "    'dram': 0.0,\n",
    "    'gpu': 1189.9352091659741,\n",
    "    'disk': 0.00031072875\n",
    "}\n",
    "\n",
    "message = Message.create_llm_message(\n",
    "    run_id=run.id,\n",
    "    prompt=\"What is the capital of France?\",\n",
    "    response=\"The capital of France is Paris.\",\n",
    "    power_usage=power_data\n",
    ")\n",
    "\n",
    "print(f\"Created message {message.id} for run {message.run_id}\")\n",
    "print(f\"Power usage - CPU: {message.cpu_usage:.2f}W, GPU: {message.gpu_usage:.2f}W\")"
   ]
  },
  {
   "cell_type": "markdown",
   "metadata": {},
   "source": []
  },
  {
   "cell_type": "code",
   "execution_count": 66,
   "metadata": {},
   "outputs": [],
   "source": [
    "for message in Message.list_all():\n",
    "    Message.delete(message.id)\n",
    "\n",
    "for run in Run.list_all():\n",
    "    Run.delete(run.id)\n",
    "\n",
    "print(Message.list_all(), Run.list_all())\n"
   ]
  }
 ],
 "metadata": {
  "kernelspec": {
   "display_name": "Python 3",
   "language": "python",
   "name": "python3"
  },
  "language_info": {
   "codemirror_mode": {
    "name": "ipython",
    "version": 3
   },
   "file_extension": ".py",
   "mimetype": "text/x-python",
   "name": "python",
   "nbconvert_exporter": "python",
   "pygments_lexer": "ipython3",
   "version": "3.10.12"
  }
 },
 "nbformat": 4,
 "nbformat_minor": 2
}
