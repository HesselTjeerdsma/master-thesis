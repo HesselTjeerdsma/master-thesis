{
 "cells": [
  {
   "cell_type": "code",
   "execution_count": 12,
   "metadata": {},
   "outputs": [],
   "source": [
    "import pandas as pd\n",
    "from anthropic import Anthropic\n",
    "import time\n",
    "from tqdm.auto import tqdm\n",
    "import signal\n",
    "import sys\n",
    "import os\n",
    "\n",
    "class PromptProcessor:\n",
    "    def __init__(self, df, api_key, output_path, model):\n",
    "        self.df = df.copy()\n",
    "        self.api_key = api_key\n",
    "        self.output_path = output_path\n",
    "        self.model = model\n",
    "        self.client = Anthropic(api_key=api_key)\n",
    "        self.is_interrupted = False\n",
    "        \n",
    "        # Initialize columns\n",
    "        if 'ClaudeResponse' not in self.df.columns:\n",
    "            self.df['ClaudeResponse'] = ''\n",
    "            \n",
    "        # Setup interrupt handler\n",
    "        signal.signal(signal.SIGINT, self.handle_interrupt)\n",
    "        signal.signal(signal.SIGTERM, self.handle_interrupt)\n",
    "\n",
    "    def handle_interrupt(self, signum, frame):\n",
    "        print(\"\\n\\nInterruption received. Shutting down gracefully...\")\n",
    "        self.is_interrupted = True\n",
    "\n",
    "    def save_progress(self):\n",
    "        self.df.to_csv(self.output_path, index=False)\n",
    "\n",
    "    def process_prompts(self):\n",
    "        pbar = tqdm(total=len(self.df), desc=\"Processing prompts\")\n",
    "        \n",
    "        try:\n",
    "            for idx in self.df.index:\n",
    "                if self.is_interrupted:\n",
    "                    break\n",
    "                    \n",
    "                # Skip if already processed\n",
    "                if pd.notna(self.df.loc[idx, 'ClaudeResponse']):\n",
    "                    pbar.update(1)\n",
    "                    continue\n",
    "                \n",
    "                try:\n",
    "                    message = self.client.messages.create(\n",
    "                        model=self.model,\n",
    "                        max_tokens=1024,\n",
    "                        messages=[{\n",
    "                            \"role\": \"user\",\n",
    "                            \"content\": self.df.loc[idx, 'Prompt']\n",
    "                        }]\n",
    "                    )\n",
    "                    \n",
    "                    self.df.loc[idx, 'ClaudeResponse'] = message.content[0].text\n",
    "                    \n",
    "                except Exception as e:\n",
    "                    print(f\"\\nError processing prompt {idx}: {str(e)}\")\n",
    "                    self.df.loc[idx, 'ClaudeResponse'] = f\"Error: {str(e)}\"\n",
    "                \n",
    "                # Save after every request\n",
    "                self.save_progress()\n",
    "                pbar.update(1)\n",
    "                \n",
    "        finally:\n",
    "            pbar.close()\n",
    "            self.save_progress()\n",
    "            \n",
    "        return self.df\n",
    "\n",
    "def process_prompts_file(input_path, output_path, api_key, model=\"claude-3-sonnet-20240229\"):\n",
    "    \"\"\"\n",
    "    Process prompts from input CSV and save results.\n",
    "    \n",
    "    Args:\n",
    "        input_path (str): Path to input CSV file containing prompts\n",
    "        output_path (str): Path to save results\n",
    "        api_key (str): Anthropic API key\n",
    "        model (str): Claude model to use (default: claude-3-sonnet-20240229)\n",
    "    \"\"\"\n",
    "    # Load existing progress or start new\n",
    "    if os.path.exists(output_path):\n",
    "        print(f\"Resuming from {output_path}\")\n",
    "        df = pd.read_csv(output_path)\n",
    "    else:\n",
    "        print(f\"Starting new processing from {input_path}\")\n",
    "        df = pd.read_csv(input_path)\n",
    "    \n",
    "    processor = PromptProcessor(df, api_key, output_path, model)\n",
    "    return processor.process_prompts()\n"
   ]
  },
  {
   "cell_type": "code",
   "execution_count": null,
   "metadata": {},
   "outputs": [
    {
     "name": "stdout",
     "output_type": "stream",
     "text": [
      "Resuming from existing progress in ../results/results_claude.csv\n"
     ]
    },
    {
     "data": {
      "application/vnd.jupyter.widget-view+json": {
       "model_id": "41a508ef31d14591b995ac5d48dbf442",
       "version_major": 2,
       "version_minor": 0
      },
      "text/plain": [
       "Processing prompts:   0%|          | 3/1681 [Successful: 0, Failed: 3, Retried: 0]"
      ]
     },
     "metadata": {},
     "output_type": "display_data"
    },
    {
     "name": "stdout",
     "output_type": "stream",
     "text": [
      "\n",
      "Progress saved to ../results/results_claude.csv\n",
      "Backup saved to ../results/results_claude_20241122_114104.csv\n",
      "\n",
      "Progress saved to ../results/results_claude.csv\n",
      "Backup saved to ../results/results_claude_20241122_114131.csv\n",
      "\n",
      "\n",
      "Interruption received. Saving progress and shutting down gracefully...\n",
      "\n",
      "Progress saved to ../results/results_claude.csv\n",
      "Backup saved to ../results/results_claude_20241122_114134.csv\n",
      "\n",
      "Progress saved to ../results/results_claude.csv\n",
      "Backup saved to ../results/results_claude_20241122_114134.csv\n",
      "\n",
      "Processing Complete!\n",
      "Total prompts processed: 24\n",
      "Successful: 21\n",
      "Failed: 3\n",
      "Required retries: 0\n"
     ]
    },
    {
     "ename": "SystemExit",
     "evalue": "0",
     "output_type": "error",
     "traceback": [
      "An exception has occurred, use %tb to see the full traceback.\n",
      "\u001b[0;31mSystemExit\u001b[0m\u001b[0;31m:\u001b[0m 0\n"
     ]
    },
    {
     "name": "stderr",
     "output_type": "stream",
     "text": [
      "/home/hessel/miniconda3/envs/thesis/lib/python3.12/site-packages/IPython/core/interactiveshell.py:3585: UserWarning: To exit: use 'exit', 'quit', or Ctrl-D.\n",
      "  warn(\"To exit: use 'exit', 'quit', or Ctrl-D.\", stacklevel=1)\n"
     ]
    }
   ],
   "source": [
    "df = pd.read_csv(\"../results/results_v1.csv\")\n",
    "\n",
    "# Your API key should be stored securely, not hardcodedß\n",
    "\n",
    "# Process the prompts\n",
    "results_df = process_prompts_file(input_path=\"../results/results_v1.csv\", output_path='../results/results_claude.csv', api_key=api_key, model=\"claude-3-5-sonnet-20241022\")\n",
    "\n",
    "# Save results\n",
    "results_df.to_csv('../results/results_claude.csv', index=False)"
   ]
  }
 ],
 "metadata": {
  "kernelspec": {
   "display_name": "thesis",
   "language": "python",
   "name": "python3"
  },
  "language_info": {
   "codemirror_mode": {
    "name": "ipython",
    "version": 3
   },
   "file_extension": ".py",
   "mimetype": "text/x-python",
   "name": "python",
   "nbconvert_exporter": "python",
   "pygments_lexer": "ipython3",
   "version": "3.12.7"
  }
 },
 "nbformat": 4,
 "nbformat_minor": 2
}
