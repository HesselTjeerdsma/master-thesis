{
 "cells": [
  {
   "cell_type": "code",
   "execution_count": 2,
   "metadata": {},
   "outputs": [],
   "source": [
    "import pandas as pd\n",
    "\n",
    "def combine_model_responses(file_model_pairs):\n",
    "    \"\"\"\n",
    "    Combines responses from different files based on specified model columns.\n",
    "    \n",
    "    Args:\n",
    "        file_model_pairs (dict): Dictionary mapping filenames to their response column names\n",
    "    \"\"\"\n",
    "    combined_data = None\n",
    "    \n",
    "    for file, column in file_model_pairs.items():\n",
    "        df = pd.read_csv(file)\n",
    "        \n",
    "        # Select Prompt and specific model response\n",
    "        selected_data = df[['Prompt', column]].copy()\n",
    "        selected_data = selected_data.rename(columns={column: f\"{file.split('_')[1].split('.')[0]}_response\"})\n",
    "        \n",
    "        if combined_data is None:\n",
    "            combined_data = selected_data\n",
    "        else:\n",
    "            combined_data = pd.merge(combined_data, selected_data, on='Prompt', how='outer')\n",
    "    \n",
    "    return combined_data\n",
    "\n",
    "# Example usage\n",
    "file_model_pairs = {\n",
    "        '../results/results_chatgpt.csv': 'GPTResponse',\n",
    "        '../results/results_claude.csv': 'ClaudeResponse',\n",
    "        #'../results/results_gemma.csv': 'GemmaResponse',\n",
    "        '../results/results_llama32.csv': 'LLama32Response',\n",
    "        #'../results/results_mistralnemo.csv': 'MistralNemoResponse',\n",
    "        '../results/results_phi.csv': 'PhiResponse',\n",
    "\n",
    "\n",
    "}\n",
    "\n",
    "combined_responses = combine_model_responses(file_model_pairs)\n",
    "combined_responses.to_csv('../results/combined_model_responses.ssv', index=False, sep=\";\")"
   ]
  }
 ],
 "metadata": {
  "kernelspec": {
   "display_name": "thesis",
   "language": "python",
   "name": "python3"
  },
  "language_info": {
   "codemirror_mode": {
    "name": "ipython",
    "version": 3
   },
   "file_extension": ".py",
   "mimetype": "text/x-python",
   "name": "python",
   "nbconvert_exporter": "python",
   "pygments_lexer": "ipython3",
   "version": "3.12.7"
  }
 },
 "nbformat": 4,
 "nbformat_minor": 2
}
